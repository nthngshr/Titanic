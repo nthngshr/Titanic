{
 "cells": [
  {
   "cell_type": "code",
   "execution_count": 2,
   "metadata": {},
   "outputs": [],
   "source": [
    "# imports\n",
    "import matplotlib.pyplot as plt\n",
    "import pandas as pd\n",
    "from sklearn import (\n",
    "    ensemble, \n",
    "    preprocessing, \n",
    "    tree,\n",
    "    )\n",
    "from sklearn.metrics import (\n",
    "    auc, \n",
    "    confusion_matrix, \n",
    "    roc_auc_score, \n",
    "    roc_curve\n",
    "    )\n",
    "from sklearn.model_selection import (\n",
    "    train_test_split, \n",
    "    StratifiedKFold,\n",
    "    )\n",
    "from yellowbrick.classifier import (\n",
    "    ConfusionMatrix,\n",
    "     ROCAUC,\n",
    "     )\n",
    "from yellowbrick.model_selection import (\n",
    "    LearningCurve,\n",
    "    )"
   ]
  },
  {
   "cell_type": "code",
   "execution_count": null,
   "metadata": {},
   "outputs": [],
   "source": []
  }
 ],
 "metadata": {
  "interpreter": {
   "hash": "e437cd7694d020f16949726dab56deadf1592ac596ea74bcec5fa5657186eaf2"
  },
  "kernelspec": {
   "display_name": "Python 3.9.7 ('base')",
   "language": "python",
   "name": "python3"
  },
  "language_info": {
   "codemirror_mode": {
    "name": "ipython",
    "version": 3
   },
   "file_extension": ".py",
   "mimetype": "text/x-python",
   "name": "python",
   "nbconvert_exporter": "python",
   "pygments_lexer": "ipython3",
   "version": "3.9.7"
  },
  "orig_nbformat": 4
 },
 "nbformat": 4,
 "nbformat_minor": 2
}
